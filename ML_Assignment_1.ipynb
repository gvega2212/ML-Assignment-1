{
 "cells": [
  {
   "cell_type": "markdown",
   "metadata": {
    "id": "oDxUd3X87cZc"
   },
   "source": [
    "\n",
    "GABRIELA VEGA\n",
    "BCSAI\n",
    "MACHINE LEARNING ASSIGNMENT 1\n"
   ]
  },
  {
   "cell_type": "markdown",
   "metadata": {},
   "source": [
    "Installing my libraries\n"
   ]
  },
  {
   "cell_type": "code",
   "execution_count": 1,
   "metadata": {
    "colab": {
     "base_uri": "https://localhost:8080/"
    },
    "id": "4dyKOTJB5wrk",
    "outputId": "33dc7a5b-791a-4dd1-9403-6f43f307e0bb"
   },
   "outputs": [
    {
     "name": "stdout",
     "output_type": "stream",
     "text": [
      "Requirement already satisfied: pandas in /Users/gabyvega/ExpenseManagement/.venv/lib/python3.13/site-packages (2.2.3)\n",
      "Requirement already satisfied: numpy in /Users/gabyvega/ExpenseManagement/.venv/lib/python3.13/site-packages (2.2.3)\n",
      "Requirement already satisfied: matplotlib in /Users/gabyvega/ExpenseManagement/.venv/lib/python3.13/site-packages (3.10.0)\n",
      "Requirement already satisfied: seaborn in /Users/gabyvega/ExpenseManagement/.venv/lib/python3.13/site-packages (0.13.2)\n",
      "Requirement already satisfied: scikit-learn in /Users/gabyvega/ExpenseManagement/.venv/lib/python3.13/site-packages (1.6.1)\n",
      "Requirement already satisfied: imbalanced-learn in /Users/gabyvega/ExpenseManagement/.venv/lib/python3.13/site-packages (0.13.0)\n",
      "Requirement already satisfied: python-dateutil>=2.8.2 in /Users/gabyvega/ExpenseManagement/.venv/lib/python3.13/site-packages (from pandas) (2.9.0.post0)\n",
      "Requirement already satisfied: pytz>=2020.1 in /Users/gabyvega/ExpenseManagement/.venv/lib/python3.13/site-packages (from pandas) (2025.1)\n",
      "Requirement already satisfied: tzdata>=2022.7 in /Users/gabyvega/ExpenseManagement/.venv/lib/python3.13/site-packages (from pandas) (2025.1)\n",
      "Requirement already satisfied: contourpy>=1.0.1 in /Users/gabyvega/ExpenseManagement/.venv/lib/python3.13/site-packages (from matplotlib) (1.3.1)\n",
      "Requirement already satisfied: cycler>=0.10 in /Users/gabyvega/ExpenseManagement/.venv/lib/python3.13/site-packages (from matplotlib) (0.12.1)\n",
      "Requirement already satisfied: fonttools>=4.22.0 in /Users/gabyvega/ExpenseManagement/.venv/lib/python3.13/site-packages (from matplotlib) (4.56.0)\n",
      "Requirement already satisfied: kiwisolver>=1.3.1 in /Users/gabyvega/ExpenseManagement/.venv/lib/python3.13/site-packages (from matplotlib) (1.4.8)\n",
      "Requirement already satisfied: packaging>=20.0 in /Users/gabyvega/ExpenseManagement/.venv/lib/python3.13/site-packages (from matplotlib) (24.2)\n",
      "Requirement already satisfied: pillow>=8 in /Users/gabyvega/ExpenseManagement/.venv/lib/python3.13/site-packages (from matplotlib) (11.1.0)\n",
      "Requirement already satisfied: pyparsing>=2.3.1 in /Users/gabyvega/ExpenseManagement/.venv/lib/python3.13/site-packages (from matplotlib) (3.2.1)\n",
      "Requirement already satisfied: scipy>=1.6.0 in /Users/gabyvega/ExpenseManagement/.venv/lib/python3.13/site-packages (from scikit-learn) (1.15.1)\n",
      "Requirement already satisfied: joblib>=1.2.0 in /Users/gabyvega/ExpenseManagement/.venv/lib/python3.13/site-packages (from scikit-learn) (1.4.2)\n",
      "Requirement already satisfied: threadpoolctl>=3.1.0 in /Users/gabyvega/ExpenseManagement/.venv/lib/python3.13/site-packages (from scikit-learn) (3.5.0)\n",
      "Requirement already satisfied: sklearn-compat<1,>=0.1 in /Users/gabyvega/ExpenseManagement/.venv/lib/python3.13/site-packages (from imbalanced-learn) (0.1.3)\n",
      "Requirement already satisfied: six>=1.5 in /Users/gabyvega/ExpenseManagement/.venv/lib/python3.13/site-packages (from python-dateutil>=2.8.2->pandas) (1.16.0)\n",
      "\n",
      "\u001b[1m[\u001b[0m\u001b[34;49mnotice\u001b[0m\u001b[1;39;49m]\u001b[0m\u001b[39;49m A new release of pip is available: \u001b[0m\u001b[31;49m24.3.1\u001b[0m\u001b[39;49m -> \u001b[0m\u001b[32;49m25.0.1\u001b[0m\n",
      "\u001b[1m[\u001b[0m\u001b[34;49mnotice\u001b[0m\u001b[1;39;49m]\u001b[0m\u001b[39;49m To update, run: \u001b[0m\u001b[32;49mpip install --upgrade pip\u001b[0m\n"
     ]
    }
   ],
   "source": [
    "!pip3 install pandas numpy matplotlib seaborn scikit-learn imbalanced-learn\n"
   ]
  },
  {
   "cell_type": "markdown",
   "metadata": {
    "id": "ZN8uwh-B7kSl"
   },
   "source": [
    "Downloading and Importing the Dataset"
   ]
  },
  {
   "cell_type": "code",
   "execution_count": 2,
   "metadata": {
    "colab": {
     "base_uri": "https://localhost:8080/"
    },
    "id": "gdZKH1k06P6u",
    "outputId": "7a1f2534-4e54-43b2-a78c-442c2906b5b2"
   },
   "outputs": [
    {
     "name": "stderr",
     "output_type": "stream",
     "text": [
      "/Users/gabyvega/ExpenseManagement/.venv/lib/python3.13/site-packages/tqdm/auto.py:21: TqdmWarning: IProgress not found. Please update jupyter and ipywidgets. See https://ipywidgets.readthedocs.io/en/stable/user_install.html\n",
      "  from .autonotebook import tqdm as notebook_tqdm\n"
     ]
    },
    {
     "name": "stdout",
     "output_type": "stream",
     "text": [
      "Path to dataset files: /Users/gabyvega/.cache/kagglehub/datasets/vinicius150987/titanic3/versions/1\n"
     ]
    }
   ],
   "source": [
    "import kagglehub\n",
    "\n",
    "# Downloading dataset\n",
    "path = kagglehub.dataset_download(\"vinicius150987/titanic3\")\n",
    "\n",
    "print(\"Path to dataset files:\", path)"
   ]
  },
  {
   "cell_type": "markdown",
   "metadata": {
    "id": "x1m1dod37o5u"
   },
   "source": [
    "TASK 1\n",
    "\n",
    "Initially exploring the data\n",
    "\n"
   ]
  },
  {
   "cell_type": "code",
   "execution_count": 3,
   "metadata": {
    "colab": {
     "base_uri": "https://localhost:8080/",
     "height": 397
    },
    "id": "-QE9qg3V6FzW",
    "outputId": "296e95ae-fd33-42cb-e211-f9dd58adc6c6"
   },
   "outputs": [
    {
     "data": {
      "text/html": [
       "<div>\n",
       "<style scoped>\n",
       "    .dataframe tbody tr th:only-of-type {\n",
       "        vertical-align: middle;\n",
       "    }\n",
       "\n",
       "    .dataframe tbody tr th {\n",
       "        vertical-align: top;\n",
       "    }\n",
       "\n",
       "    .dataframe thead th {\n",
       "        text-align: right;\n",
       "    }\n",
       "</style>\n",
       "<table border=\"1\" class=\"dataframe\">\n",
       "  <thead>\n",
       "    <tr style=\"text-align: right;\">\n",
       "      <th></th>\n",
       "      <th>pclass</th>\n",
       "      <th>survived</th>\n",
       "      <th>name</th>\n",
       "      <th>sex</th>\n",
       "      <th>age</th>\n",
       "      <th>sibsp</th>\n",
       "      <th>parch</th>\n",
       "      <th>ticket</th>\n",
       "      <th>fare</th>\n",
       "      <th>cabin</th>\n",
       "      <th>embarked</th>\n",
       "      <th>boat</th>\n",
       "      <th>body</th>\n",
       "      <th>home.dest</th>\n",
       "    </tr>\n",
       "  </thead>\n",
       "  <tbody>\n",
       "    <tr>\n",
       "      <th>0</th>\n",
       "      <td>1</td>\n",
       "      <td>1</td>\n",
       "      <td>Allen, Miss. Elisabeth Walton</td>\n",
       "      <td>female</td>\n",
       "      <td>29.0000</td>\n",
       "      <td>0</td>\n",
       "      <td>0</td>\n",
       "      <td>24160</td>\n",
       "      <td>211.3375</td>\n",
       "      <td>B5</td>\n",
       "      <td>S</td>\n",
       "      <td>2</td>\n",
       "      <td>NaN</td>\n",
       "      <td>St Louis, MO</td>\n",
       "    </tr>\n",
       "    <tr>\n",
       "      <th>1</th>\n",
       "      <td>1</td>\n",
       "      <td>1</td>\n",
       "      <td>Allison, Master. Hudson Trevor</td>\n",
       "      <td>male</td>\n",
       "      <td>0.9167</td>\n",
       "      <td>1</td>\n",
       "      <td>2</td>\n",
       "      <td>113781</td>\n",
       "      <td>151.5500</td>\n",
       "      <td>C22 C26</td>\n",
       "      <td>S</td>\n",
       "      <td>11</td>\n",
       "      <td>NaN</td>\n",
       "      <td>Montreal, PQ / Chesterville, ON</td>\n",
       "    </tr>\n",
       "    <tr>\n",
       "      <th>2</th>\n",
       "      <td>1</td>\n",
       "      <td>0</td>\n",
       "      <td>Allison, Miss. Helen Loraine</td>\n",
       "      <td>female</td>\n",
       "      <td>2.0000</td>\n",
       "      <td>1</td>\n",
       "      <td>2</td>\n",
       "      <td>113781</td>\n",
       "      <td>151.5500</td>\n",
       "      <td>C22 C26</td>\n",
       "      <td>S</td>\n",
       "      <td>NaN</td>\n",
       "      <td>NaN</td>\n",
       "      <td>Montreal, PQ / Chesterville, ON</td>\n",
       "    </tr>\n",
       "    <tr>\n",
       "      <th>3</th>\n",
       "      <td>1</td>\n",
       "      <td>0</td>\n",
       "      <td>Allison, Mr. Hudson Joshua Creighton</td>\n",
       "      <td>male</td>\n",
       "      <td>30.0000</td>\n",
       "      <td>1</td>\n",
       "      <td>2</td>\n",
       "      <td>113781</td>\n",
       "      <td>151.5500</td>\n",
       "      <td>C22 C26</td>\n",
       "      <td>S</td>\n",
       "      <td>NaN</td>\n",
       "      <td>135.0</td>\n",
       "      <td>Montreal, PQ / Chesterville, ON</td>\n",
       "    </tr>\n",
       "    <tr>\n",
       "      <th>4</th>\n",
       "      <td>1</td>\n",
       "      <td>0</td>\n",
       "      <td>Allison, Mrs. Hudson J C (Bessie Waldo Daniels)</td>\n",
       "      <td>female</td>\n",
       "      <td>25.0000</td>\n",
       "      <td>1</td>\n",
       "      <td>2</td>\n",
       "      <td>113781</td>\n",
       "      <td>151.5500</td>\n",
       "      <td>C22 C26</td>\n",
       "      <td>S</td>\n",
       "      <td>NaN</td>\n",
       "      <td>NaN</td>\n",
       "      <td>Montreal, PQ / Chesterville, ON</td>\n",
       "    </tr>\n",
       "  </tbody>\n",
       "</table>\n",
       "</div>"
      ],
      "text/plain": [
       "   pclass  survived                                             name     sex  \\\n",
       "0       1         1                    Allen, Miss. Elisabeth Walton  female   \n",
       "1       1         1                   Allison, Master. Hudson Trevor    male   \n",
       "2       1         0                     Allison, Miss. Helen Loraine  female   \n",
       "3       1         0             Allison, Mr. Hudson Joshua Creighton    male   \n",
       "4       1         0  Allison, Mrs. Hudson J C (Bessie Waldo Daniels)  female   \n",
       "\n",
       "       age  sibsp  parch  ticket      fare    cabin embarked boat   body  \\\n",
       "0  29.0000      0      0   24160  211.3375       B5        S    2    NaN   \n",
       "1   0.9167      1      2  113781  151.5500  C22 C26        S   11    NaN   \n",
       "2   2.0000      1      2  113781  151.5500  C22 C26        S  NaN    NaN   \n",
       "3  30.0000      1      2  113781  151.5500  C22 C26        S  NaN  135.0   \n",
       "4  25.0000      1      2  113781  151.5500  C22 C26        S  NaN    NaN   \n",
       "\n",
       "                         home.dest  \n",
       "0                     St Louis, MO  \n",
       "1  Montreal, PQ / Chesterville, ON  \n",
       "2  Montreal, PQ / Chesterville, ON  \n",
       "3  Montreal, PQ / Chesterville, ON  \n",
       "4  Montreal, PQ / Chesterville, ON  "
      ]
     },
     "execution_count": 3,
     "metadata": {},
     "output_type": "execute_result"
    }
   ],
   "source": [
    "import pandas as pd\n",
    "import numpy as np\n",
    "import matplotlib.pyplot as plt\n",
    "import seaborn as sns\n",
    "\n",
    "# loading our dataset\n",
    "file_path = \"titanic3.xls\"\n",
    "df = pd.read_excel(file_path)\n",
    "\n",
    "df.head()\n",
    "\n"
   ]
  },
  {
   "cell_type": "code",
   "execution_count": 4,
   "metadata": {
    "colab": {
     "base_uri": "https://localhost:8080/"
    },
    "id": "Mo-f7djTBLp3",
    "outputId": "d33165e0-c64e-4e97-d18e-e7defbb5adf8"
   },
   "outputs": [
    {
     "name": "stdout",
     "output_type": "stream",
     "text": [
      "dataset contains 1309 rows and 14 columns\n",
      "\n",
      "column names and data types:\n",
      "pclass         int64\n",
      "survived       int64\n",
      "name          object\n",
      "sex           object\n",
      "age          float64\n",
      "sibsp          int64\n",
      "parch          int64\n",
      "ticket        object\n",
      "fare         float64\n",
      "cabin         object\n",
      "embarked      object\n",
      "boat          object\n",
      "body         float64\n",
      "home.dest     object\n",
      "dtype: object\n",
      "\n",
      "missing values:\n",
      "pclass          0\n",
      "survived        0\n",
      "name            0\n",
      "sex             0\n",
      "age           263\n",
      "sibsp           0\n",
      "parch           0\n",
      "ticket          0\n",
      "fare            1\n",
      "cabin        1014\n",
      "embarked        2\n",
      "boat          823\n",
      "body         1188\n",
      "home.dest     564\n",
      "dtype: int64\n"
     ]
    }
   ],
   "source": [
    "# checking dataset shape (number of rows and columns)\n",
    "print(f\"dataset contains {df.shape[0]} rows and {df.shape[1]} columns\")\n",
    "\n",
    "# checking column names and data types\n",
    "print(\"\\ncolumn names and data types:\")\n",
    "print(df.dtypes)\n",
    "\n",
    "# Check for missing values\n",
    "print(\"\\nmissing values:\")\n",
    "print(df.isnull().sum())\n"
   ]
  },
  {
   "cell_type": "markdown",
   "metadata": {
    "id": "RxnRCA8oS6fs"
   },
   "source": [
    "Explanation for the following section of Code:\n",
    "\n",
    "The next section of code is essentially summarizing numerical and categorical data. I used \"df.describe\" to find descriptive statistics (count, mean, std, etc.) and then did the same but for the categorical variables. From these summary statistics we can draw some data that will be relevant to our model like the fact that most passengers were in the third clas and that there were more males than females. We also identified the number of missing values in the dataset. As we can see in the chart, \"age\", \"fare\", \"cabin\", \"embarked\", \"boat\" \"body\" and \" home dest\" are all columns with missing values which we will have to deal with in task 2.  "
   ]
  },
  {
   "cell_type": "code",
   "execution_count": 5,
   "metadata": {
    "colab": {
     "base_uri": "https://localhost:8080/",
     "height": 300
    },
    "id": "mhd30HFMBc8B",
    "outputId": "a99cdea9-45f9-40b6-af71-c567de4d4c92"
   },
   "outputs": [
    {
     "data": {
      "text/html": [
       "<div>\n",
       "<style scoped>\n",
       "    .dataframe tbody tr th:only-of-type {\n",
       "        vertical-align: middle;\n",
       "    }\n",
       "\n",
       "    .dataframe tbody tr th {\n",
       "        vertical-align: top;\n",
       "    }\n",
       "\n",
       "    .dataframe thead th {\n",
       "        text-align: right;\n",
       "    }\n",
       "</style>\n",
       "<table border=\"1\" class=\"dataframe\">\n",
       "  <thead>\n",
       "    <tr style=\"text-align: right;\">\n",
       "      <th></th>\n",
       "      <th>pclass</th>\n",
       "      <th>survived</th>\n",
       "      <th>age</th>\n",
       "      <th>sibsp</th>\n",
       "      <th>parch</th>\n",
       "      <th>fare</th>\n",
       "      <th>body</th>\n",
       "    </tr>\n",
       "  </thead>\n",
       "  <tbody>\n",
       "    <tr>\n",
       "      <th>count</th>\n",
       "      <td>1309.000000</td>\n",
       "      <td>1309.000000</td>\n",
       "      <td>1046.000000</td>\n",
       "      <td>1309.000000</td>\n",
       "      <td>1309.000000</td>\n",
       "      <td>1308.000000</td>\n",
       "      <td>121.000000</td>\n",
       "    </tr>\n",
       "    <tr>\n",
       "      <th>mean</th>\n",
       "      <td>2.294882</td>\n",
       "      <td>0.381971</td>\n",
       "      <td>29.881135</td>\n",
       "      <td>0.498854</td>\n",
       "      <td>0.385027</td>\n",
       "      <td>33.295479</td>\n",
       "      <td>160.809917</td>\n",
       "    </tr>\n",
       "    <tr>\n",
       "      <th>std</th>\n",
       "      <td>0.837836</td>\n",
       "      <td>0.486055</td>\n",
       "      <td>14.413500</td>\n",
       "      <td>1.041658</td>\n",
       "      <td>0.865560</td>\n",
       "      <td>51.758668</td>\n",
       "      <td>97.696922</td>\n",
       "    </tr>\n",
       "    <tr>\n",
       "      <th>min</th>\n",
       "      <td>1.000000</td>\n",
       "      <td>0.000000</td>\n",
       "      <td>0.166700</td>\n",
       "      <td>0.000000</td>\n",
       "      <td>0.000000</td>\n",
       "      <td>0.000000</td>\n",
       "      <td>1.000000</td>\n",
       "    </tr>\n",
       "    <tr>\n",
       "      <th>25%</th>\n",
       "      <td>2.000000</td>\n",
       "      <td>0.000000</td>\n",
       "      <td>21.000000</td>\n",
       "      <td>0.000000</td>\n",
       "      <td>0.000000</td>\n",
       "      <td>7.895800</td>\n",
       "      <td>72.000000</td>\n",
       "    </tr>\n",
       "    <tr>\n",
       "      <th>50%</th>\n",
       "      <td>3.000000</td>\n",
       "      <td>0.000000</td>\n",
       "      <td>28.000000</td>\n",
       "      <td>0.000000</td>\n",
       "      <td>0.000000</td>\n",
       "      <td>14.454200</td>\n",
       "      <td>155.000000</td>\n",
       "    </tr>\n",
       "    <tr>\n",
       "      <th>75%</th>\n",
       "      <td>3.000000</td>\n",
       "      <td>1.000000</td>\n",
       "      <td>39.000000</td>\n",
       "      <td>1.000000</td>\n",
       "      <td>0.000000</td>\n",
       "      <td>31.275000</td>\n",
       "      <td>256.000000</td>\n",
       "    </tr>\n",
       "    <tr>\n",
       "      <th>max</th>\n",
       "      <td>3.000000</td>\n",
       "      <td>1.000000</td>\n",
       "      <td>80.000000</td>\n",
       "      <td>8.000000</td>\n",
       "      <td>9.000000</td>\n",
       "      <td>512.329200</td>\n",
       "      <td>328.000000</td>\n",
       "    </tr>\n",
       "  </tbody>\n",
       "</table>\n",
       "</div>"
      ],
      "text/plain": [
       "            pclass     survived          age        sibsp        parch  \\\n",
       "count  1309.000000  1309.000000  1046.000000  1309.000000  1309.000000   \n",
       "mean      2.294882     0.381971    29.881135     0.498854     0.385027   \n",
       "std       0.837836     0.486055    14.413500     1.041658     0.865560   \n",
       "min       1.000000     0.000000     0.166700     0.000000     0.000000   \n",
       "25%       2.000000     0.000000    21.000000     0.000000     0.000000   \n",
       "50%       3.000000     0.000000    28.000000     0.000000     0.000000   \n",
       "75%       3.000000     1.000000    39.000000     1.000000     0.000000   \n",
       "max       3.000000     1.000000    80.000000     8.000000     9.000000   \n",
       "\n",
       "              fare        body  \n",
       "count  1308.000000  121.000000  \n",
       "mean     33.295479  160.809917  \n",
       "std      51.758668   97.696922  \n",
       "min       0.000000    1.000000  \n",
       "25%       7.895800   72.000000  \n",
       "50%      14.454200  155.000000  \n",
       "75%      31.275000  256.000000  \n",
       "max     512.329200  328.000000  "
      ]
     },
     "execution_count": 5,
     "metadata": {},
     "output_type": "execute_result"
    }
   ],
   "source": [
    "# Summary stats for columns with numerical values\n",
    "df.describe()\n",
    "\n"
   ]
  },
  {
   "cell_type": "code",
   "execution_count": 6,
   "metadata": {
    "colab": {
     "base_uri": "https://localhost:8080/",
     "height": 175
    },
    "id": "kTGg7pC-Bov6",
    "outputId": "4345887d-1a26-4cda-d67f-e7c74835268b"
   },
   "outputs": [
    {
     "data": {
      "text/html": [
       "<div>\n",
       "<style scoped>\n",
       "    .dataframe tbody tr th:only-of-type {\n",
       "        vertical-align: middle;\n",
       "    }\n",
       "\n",
       "    .dataframe tbody tr th {\n",
       "        vertical-align: top;\n",
       "    }\n",
       "\n",
       "    .dataframe thead th {\n",
       "        text-align: right;\n",
       "    }\n",
       "</style>\n",
       "<table border=\"1\" class=\"dataframe\">\n",
       "  <thead>\n",
       "    <tr style=\"text-align: right;\">\n",
       "      <th></th>\n",
       "      <th>name</th>\n",
       "      <th>sex</th>\n",
       "      <th>ticket</th>\n",
       "      <th>cabin</th>\n",
       "      <th>embarked</th>\n",
       "      <th>boat</th>\n",
       "      <th>home.dest</th>\n",
       "    </tr>\n",
       "  </thead>\n",
       "  <tbody>\n",
       "    <tr>\n",
       "      <th>count</th>\n",
       "      <td>1309</td>\n",
       "      <td>1309</td>\n",
       "      <td>1309</td>\n",
       "      <td>295</td>\n",
       "      <td>1307</td>\n",
       "      <td>486</td>\n",
       "      <td>745</td>\n",
       "    </tr>\n",
       "    <tr>\n",
       "      <th>unique</th>\n",
       "      <td>1307</td>\n",
       "      <td>2</td>\n",
       "      <td>939</td>\n",
       "      <td>186</td>\n",
       "      <td>3</td>\n",
       "      <td>28</td>\n",
       "      <td>369</td>\n",
       "    </tr>\n",
       "    <tr>\n",
       "      <th>top</th>\n",
       "      <td>Connolly, Miss. Kate</td>\n",
       "      <td>male</td>\n",
       "      <td>CA. 2343</td>\n",
       "      <td>C23 C25 C27</td>\n",
       "      <td>S</td>\n",
       "      <td>13</td>\n",
       "      <td>New York, NY</td>\n",
       "    </tr>\n",
       "    <tr>\n",
       "      <th>freq</th>\n",
       "      <td>2</td>\n",
       "      <td>843</td>\n",
       "      <td>11</td>\n",
       "      <td>6</td>\n",
       "      <td>914</td>\n",
       "      <td>39</td>\n",
       "      <td>64</td>\n",
       "    </tr>\n",
       "  </tbody>\n",
       "</table>\n",
       "</div>"
      ],
      "text/plain": [
       "                        name   sex    ticket        cabin embarked boat  \\\n",
       "count                   1309  1309      1309          295     1307  486   \n",
       "unique                  1307     2       939          186        3   28   \n",
       "top     Connolly, Miss. Kate  male  CA. 2343  C23 C25 C27        S   13   \n",
       "freq                       2   843        11            6      914   39   \n",
       "\n",
       "           home.dest  \n",
       "count            745  \n",
       "unique           369  \n",
       "top     New York, NY  \n",
       "freq              64  "
      ]
     },
     "execution_count": 6,
     "metadata": {},
     "output_type": "execute_result"
    }
   ],
   "source": [
    "\n",
    "# summary stats of categorical variables\n",
    "df.describe(include=['object'])\n"
   ]
  },
  {
   "cell_type": "code",
   "execution_count": 7,
   "metadata": {
    "colab": {
     "base_uri": "https://localhost:8080/",
     "height": 545
    },
    "id": "y_Eusu87Bxg3",
    "outputId": "a608b638-2a8b-4e2a-df90-a8d131aa5792"
   },
   "outputs": [
    {
     "data": {
      "image/png": "[encoded data removed]",
      "text/plain": [
       "<Figure size 1000x600 with 1 Axes>"
      ]
     },
     "metadata": {},
     "output_type": "display_data"
    }
   ],
   "source": [
    "# visualizing missing data by percentage\n",
    "plt.figure(figsize=(10,6))\n",
    "missing_data = df.isnull().mean().to_frame().T * 100  # Convert to percentage\n",
    "sns.heatmap(missing_data, annot=True, cmap=\"coolwarm\", cbar=False, fmt=\".2f\")\n",
    "plt.title(\"percentage of missing data for each column\")\n",
    "plt.show()\n",
    "\n",
    "\n"
   ]
  },
  {
   "cell_type": "markdown",
   "metadata": {
    "id": "VK-Et6TdS__3"
   },
   "source": [
    "Explanation for the following section of Code:\n",
    "\n",
    "For this next part we are creating a visualization of the survival distribution and numerical features. For the survivor distribution, I created a bar plot that shows how many passengers survived (1) and how many died (0). From this plot we can see that this distribution is unbalanced with a around 800 passengers dying and only around 500 surviving. We will take note of this for a later task where we will have to deal with the unbalanced nature of the dataset. One the other hand, the distribution of numerical features, is a way to understand trends that may go on to affect the decesions we will make later. From the historgrams we now know that class will be a predictor for survival since it is not evenly distributed (we also intuitively know that class will be relevant in this context due to general discrimination and biases). We also find that most passengers were between the ages of 20-30 (there is a right skew) and most passengers travelled alone. Finally, we can note that some passengers paid very high fares with this distribution being very skewed."
   ]
  },
  {
   "cell_type": "code",
   "execution_count": 8,
   "metadata": {
    "colab": {
     "base_uri": "https://localhost:8080/",
     "height": 333
    },
    "id": "_CpMdyBuB4FW",
    "outputId": "5d32d3d4-6276-400f-c172-84ab88f208e9"
   },
   "outputs": [
    {
     "data": {
      "image/png": "[encoded data removed]",
      "text/plain": [
       "<Figure size 700x300 with 1 Axes>"
      ]
     },
     "metadata": {},
     "output_type": "display_data"
    }
   ],
   "source": [
    "# Visualizing survivors\n",
    "plt.figure(figsize=(7,3))\n",
    "sns.countplot(data=df, x=\"survived\", hue=\"survived\", palette=\"Set2\")  # Added hue=\"survived\"\n",
    "plt.title(\"Survival Distribution\")\n",
    "plt.xlabel(\"Survival (0 = No, 1 = Yes)\")\n",
    "plt.ylabel(\"Count\")\n",
    "plt.show()\n"
   ]
  },
  {
   "cell_type": "code",
   "execution_count": 9,
   "metadata": {
    "colab": {
     "base_uri": "https://localhost:8080/",
     "height": 658
    },
    "id": "oKRqJ3ozCFHv",
    "outputId": "f43f76b0-6bc9-40f9-9687-a0f7ed5af919"
   },
   "outputs": [
    {
     "data": {
      "image/png": "[encoded data removed]",
      "text/plain": [
       "<Figure size 1300x700 with 9 Axes>"
      ]
     },
     "metadata": {},
     "output_type": "display_data"
    }
   ],
   "source": [
    "# numerical features as histograms\n",
    "df.hist(figsize=(13,7), bins=20, edgecolor=\"black\")\n",
    "plt.suptitle(\"This is the distribution of numerical features\")\n",
    "plt.show()\n"
   ]
  },
  {
   "cell_type": "markdown",
   "metadata": {
    "id": "R_oJmTtATFJl"
   },
   "source": [
    "Explanation for the following section of Code:\n",
    "\n",
    "In this final section for Task 1 we are visualizing the categorical features \"sex\", \"class\" and \"embarking\". I created a bar chart for each variable that displays distribution of each one. For \"sex\", we can see that as we noted before, there are more males than females. From this we know that gender may play a role in survival. For class we can see that as I explained above, this category is very unbalanced with third class being the largest, again implying that class may be an important factor when predicting survival. Finally the third plot shows from where the passengers embarked. This category is one that has many missing values that we will need to handle in our next step."
   ]
  },
  {
   "cell_type": "code",
   "execution_count": 10,
   "metadata": {
    "colab": {
     "base_uri": "https://localhost:8080/",
     "height": 361
    },
    "id": "GCWYFS-KCSDC",
    "outputId": "576fb10e-61b5-49cb-ff51-f341c2ce5100"
   },
   "outputs": [
    {
     "data": {
      "image/png": "[encoded data removed]",
      "text/plain": [
       "<Figure size 1500x500 with 3 Axes>"
      ]
     },
     "metadata": {},
     "output_type": "display_data"
    }
   ],
   "source": [
    "# plots for categorical features ( sex, class and embarking)\n",
    "fig, axes = plt.subplots(1, 3, figsize=(15,5))\n",
    "sns.countplot(data=df, x=\"sex\", ax=axes[0], hue=\"sex\", palette=\"pastel\")\n",
    "sns.countplot(data=df, x=\"pclass\", ax=axes[1], hue=\"pclass\", palette=\"muted\")\n",
    "sns.countplot(data=df, x=\"embarked\", ax=axes[2], hue=\"embarked\", palette=\"coolwarm\")\n",
    "\n",
    "plt.tight_layout()\n",
    "plt.show()\n"
   ]
  },
  {
   "cell_type": "markdown",
   "metadata": {
    "id": "Z5PS8AxQDKQl"
   },
   "source": [
    "Observations\n",
    "\n",
    "We have done our initial exploration of the data of both our numerical and categorical values. We will now go onto the second task which is taking care of the missing values. The columns that contain the most missing variables are cabin, boat and body so these are the ones we will take a closer look at.\n",
    "\n"
   ]
  },
  {
   "cell_type": "markdown",
   "metadata": {
    "id": "u2qbnVuwE1Wm"
   },
   "source": [
    "TASK 2\n",
    "\n",
    "Managing Missing Variables"
   ]
  },
  {
   "cell_type": "markdown",
   "metadata": {
    "id": "Ipu3tMxSTKIS"
   },
   "source": [
    "Explanation for the following section of Code:\n",
    "\n",
    "I am using df.isnull as well as a percentage to find the missing values in each category. I am then using pd.dataframe to display this data in a table in order to understand it better. Finally, I am filtering out categories that do not have missing values as these are not relevant in what we are currently doing."
   ]
  },
  {
   "cell_type": "code",
   "execution_count": 11,
   "metadata": {
    "colab": {
     "base_uri": "https://localhost:8080/",
     "height": 269
    },
    "id": "MrmHN6hZEzUZ",
    "outputId": "0f3e7489-b816-41b1-cf55-44d2d0d243c5"
   },
   "outputs": [
    {
     "data": {
      "text/html": [
       "<div>\n",
       "<style scoped>\n",
       "    .dataframe tbody tr th:only-of-type {\n",
       "        vertical-align: middle;\n",
       "    }\n",
       "\n",
       "    .dataframe tbody tr th {\n",
       "        vertical-align: top;\n",
       "    }\n",
       "\n",
       "    .dataframe thead th {\n",
       "        text-align: right;\n",
       "    }\n",
       "</style>\n",
       "<table border=\"1\" class=\"dataframe\">\n",
       "  <thead>\n",
       "    <tr style=\"text-align: right;\">\n",
       "      <th></th>\n",
       "      <th>missing values</th>\n",
       "      <th>percentages</th>\n",
       "    </tr>\n",
       "  </thead>\n",
       "  <tbody>\n",
       "    <tr>\n",
       "      <th>age</th>\n",
       "      <td>263</td>\n",
       "      <td>20.091673</td>\n",
       "    </tr>\n",
       "    <tr>\n",
       "      <th>fare</th>\n",
       "      <td>1</td>\n",
       "      <td>0.076394</td>\n",
       "    </tr>\n",
       "    <tr>\n",
       "      <th>cabin</th>\n",
       "      <td>1014</td>\n",
       "      <td>77.463713</td>\n",
       "    </tr>\n",
       "    <tr>\n",
       "      <th>embarked</th>\n",
       "      <td>2</td>\n",
       "      <td>0.152788</td>\n",
       "    </tr>\n",
       "    <tr>\n",
       "      <th>boat</th>\n",
       "      <td>823</td>\n",
       "      <td>62.872422</td>\n",
       "    </tr>\n",
       "    <tr>\n",
       "      <th>body</th>\n",
       "      <td>1188</td>\n",
       "      <td>90.756303</td>\n",
       "    </tr>\n",
       "    <tr>\n",
       "      <th>home.dest</th>\n",
       "      <td>564</td>\n",
       "      <td>43.086325</td>\n",
       "    </tr>\n",
       "  </tbody>\n",
       "</table>\n",
       "</div>"
      ],
      "text/plain": [
       "           missing values  percentages\n",
       "age                   263    20.091673\n",
       "fare                    1     0.076394\n",
       "cabin                1014    77.463713\n",
       "embarked                2     0.152788\n",
       "boat                  823    62.872422\n",
       "body                 1188    90.756303\n",
       "home.dest             564    43.086325"
      ]
     },
     "execution_count": 11,
     "metadata": {},
     "output_type": "execute_result"
    }
   ],
   "source": [
    "# checking for missing values\n",
    "missing_values = df.isnull().sum()\n",
    "missing_percent = (missing_values / len(df)) * 100\n",
    "\n",
    "# creating DataFrame to display missing value info\n",
    "missing_data = pd.DataFrame({\n",
    "    'missing values': missing_values,\n",
    "    'percentages': missing_percent\n",
    "})\n",
    "\n",
    "# displaying only columns with missing values\n",
    "missing_data = missing_data[missing_data[\"missing values\"] > 0]\n",
    "missing_data\n"
   ]
  },
  {
   "cell_type": "markdown",
   "metadata": {
    "id": "Mgd66KxbTN3K"
   },
   "source": [
    "Explanation for the following section of Code:\n",
    "\n",
    "I decided to drop \"cabin\", \"boat\", and \"body\" from the dataset because these columns all have a very high precentage of missing data (\"77%\", \"62%\" and \"90%\" respectively). For \"caabin\", since such a high precentage of values were missing I thought it would be best to drop it since using it through feature engineering would likely lead to unreliable results anyway. The \"boat\" category only takes record of the the lifeboat numbers which were recorded only for survivors so using this for our prediction does not make sense since our model would ony be learning that people that have a recorded boat number survived, which has not use in what we our actually trying to predict. Similarly, the \"body\" column is recording the identification numbers of the passengers that died, something that is not relevant in for our model. I dropped home destination because it did have a high precentage of 43% but more importantly it is also not relevant for our actual prediction model.\n",
    "\n",
    "I also dropped name and ticket since we know these values will not be important in deciding survival."
   ]
  },
  {
   "cell_type": "code",
   "execution_count": 12,
   "metadata": {
    "id": "Ziof0werFCCv"
   },
   "outputs": [],
   "source": [
    "# decided to drop \"'cabin'\", \"'boat'\", and \"'body'\" since over 60% of their values are missing\n",
    "df.drop(columns=['cabin', 'boat', 'body', 'home.dest'], inplace=True, errors=\"ignore\")\n",
    "\n",
    "# dropped name and ticket since they are not important in ssurvival prediction\n",
    "df.drop(columns=['name', 'ticket'], inplace=True, errors=\"ignore\")\n",
    "\n"
   ]
  },
  {
   "cell_type": "markdown",
   "metadata": {
    "id": "OFe3uAQYTS3w"
   },
   "source": [
    "Explanation for the following section of Code:\n",
    "\n",
    "Below we are handling the missing values in the \"age\" and \"fare\" categories. I decided to use imputation and replace the missing values with the median of their respective cateogires. These categories has a lower amount of missing data so dropping these columns was not an option as it would be losing a significant amount of data. For both these categories I chose to use the median value because using this is prefered in cases where the data is skewed (which both age and fare are) as it is more resistant to outliers. By replacing these values we will not significantly affect the prediction."
   ]
  },
  {
   "cell_type": "code",
   "execution_count": 13,
   "metadata": {
    "id": "bTSG7FjlF0BA"
   },
   "outputs": [],
   "source": [
    "# filling in missing values in 'Age' and 'Fare' with the median\n",
    "df = df.fillna({'age': df['age'].median(), 'fare': df['fare'].median()})\n"
   ]
  },
  {
   "cell_type": "markdown",
   "metadata": {
    "id": "AjKbK7_ITVAo"
   },
   "source": [
    "Explanation for the following section of Code:\n",
    "\n",
    "I decided to hanlde the missing values in the \"embarked\" category by replacing them with the mode (value seen most often). Since embarked is a categorical value it did not make sense to use the median or mean so I thought the best approach was to use the values that were repeated the most. For this category only 2 values were missing meaning that replacing these with the port used the most is reasonable.   "
   ]
  },
  {
   "cell_type": "code",
   "execution_count": 14,
   "metadata": {
    "id": "7piLvxUqGF6I"
   },
   "outputs": [],
   "source": [
    "# filling missing values in \"'embarked'\" with mode\n",
    "df['embarked'] = df['embarked'].fillna(df['embarked'].mode()[0])\n"
   ]
  },
  {
   "cell_type": "code",
   "execution_count": 15,
   "metadata": {
    "colab": {
     "base_uri": "https://localhost:8080/"
    },
    "id": "umuHxs7ZGP29",
    "outputId": "273014df-cfa4-4fd2-e6bd-870b1673a126"
   },
   "outputs": [
    {
     "name": "stdout",
     "output_type": "stream",
     "text": [
      "Missing values after handling:\n",
      "0\n"
     ]
    }
   ],
   "source": [
    "# checking there are no missing values left\n",
    "print(\"Missing values after handling:\")\n",
    "print(df.isnull().sum().sum())  \n"
   ]
  },
  {
   "cell_type": "markdown",
   "metadata": {
    "id": "WsIy4j6IInV-"
   },
   "source": [
    "TASK 5\n",
    "\n",
    "Data Splitting"
   ]
  },
  {
   "cell_type": "markdown",
   "metadata": {
    "id": "dAy0D2PWTY7n"
   },
   "source": [
    "Explanation for the following section of Code:\n",
    "\n",
    "In this next step we are splitting our dataset into training data and then into testing and validation sets. X_train is for training, X_val for validation and X_test for testing. The X variable we define at the beginning contains all features except for survived (since this is what we are trying to predict) while Y only contains the survived column. I chose to use 70% of the data for training and 30% for another temporary set that will then be split half way between validation and testing. This way the training set will have enough data and the testing and validation sets are not too large or too small. I also used the stratify=y to guarantee a balanced class distribution."
   ]
  },
  {
   "cell_type": "code",
   "execution_count": 16,
   "metadata": {
    "colab": {
     "base_uri": "https://localhost:8080/"
    },
    "id": "4la0EJQzIm8t",
    "outputId": "14aa396f-a485-49dd-cc5f-4af0a18f4518"
   },
   "outputs": [
    {
     "name": "stdout",
     "output_type": "stream",
     "text": [
      "training set: 916 samples\n",
      "validation set: 196 samples\n",
      "test set: 197 samples\n"
     ]
    }
   ],
   "source": [
    "from sklearn.model_selection import train_test_split\n",
    "\n",
    "X = df.drop(columns=['survived'])\n",
    "y = df['survived']\n",
    "\n",
    "# training 70% and others 30%\n",
    "X_train, X_temp, y_train, y_temp = train_test_split(X, y, test_size=0.3, random_state=42, stratify=y)\n",
    "\n",
    "# validation 50% and testing 50%\n",
    "X_val, X_test, y_val, y_test = train_test_split(X_temp, y_temp, test_size=0.5, random_state=42, stratify=y_temp)\n",
    "\n",
    "# printing dataset sizes\n",
    "print(f\"training set: {X_train.shape[0]} samples\")\n",
    "print(f\"validation set: {X_val.shape[0]} samples\")\n",
    "print(f\"test set: {X_test.shape[0]} samples\")\n"
   ]
  },
  {
   "cell_type": "markdown",
   "metadata": {
    "id": "-3MP3SmmHOII"
   },
   "source": [
    "TASK 3"
   ]
  },
  {
   "cell_type": "markdown",
   "metadata": {
    "id": "k0UodNln_u6j"
   },
   "source": [
    "Encoding Categorical Variables"
   ]
  },
  {
   "cell_type": "markdown",
   "metadata": {
    "id": "thlRoMWdTcM3"
   },
   "source": [
    "Explanation for the following section of Code:\n",
    "\n",
    "We are now first finding the categorical columns in our dataset in order to then encode them. The first code snippet is selecting columns with the data type object and from it we find that \"sex\" and \"embarked\" are the categorical variables we are going to work with.\n",
    "\n",
    "We are then using One-Hot encoding which transforms a categorical attribute into many binary ones. This way each category is treated independently. I used \"drop_first=True\" as a way to prevent redundant information and avoid multicollinearity (this just means that for embarked since we have three categories, one was dropped as it can be inferred from the other two). After doing this encoding process, I used \"df.astype\" to ensure that any remaining boolean value was turned into a 0 or 1.  I then displayed the first few rows to make sure that all the values we look at are numerical. Finally, the last part is just there to make sure that after the one-hot econding no columns are causing any type of issues. This step is ensuring that all the datasets are consistant.  \n",
    "\n",
    "This step is very important in a machine learning model as it makes sure that the model does not misinterpret a categorical variable or assign any type of rank to it. For example, without it a model may assume that first, second or third class have an inherent rank which is not necesarilly true. One-hot encoding is a way to guarantee that the model views the cateogircal value correctly, and in the context of our model it is essential since we can only use numerical data."
   ]
  },
  {
   "cell_type": "code",
   "execution_count": 17,
   "metadata": {
    "colab": {
     "base_uri": "https://localhost:8080/"
    },
    "id": "p4Z6ajH_HSfk",
    "outputId": "5cfbbb05-16ee-4b45-f968-9a33c5d7bc58"
   },
   "outputs": [
    {
     "name": "stdout",
     "output_type": "stream",
     "text": [
      "categorical columns: Index(['sex', 'embarked'], dtype='object')\n"
     ]
    }
   ],
   "source": [
    "# finding our categorical columns\n",
    "categorical_columns = df.select_dtypes(include=['object']).columns\n",
    "print(\"categorical columns:\", categorical_columns)\n"
   ]
  },
  {
   "cell_type": "code",
   "execution_count": 18,
   "metadata": {
    "colab": {
     "base_uri": "https://localhost:8080/",
     "height": 206
    },
    "id": "h9AfIt4_Hi96",
    "outputId": "846a4716-0969-40b7-f1e4-e6fea9ef13de"
   },
   "outputs": [
    {
     "data": {
      "text/html": [
       "<div>\n",
       "<style scoped>\n",
       "    .dataframe tbody tr th:only-of-type {\n",
       "        vertical-align: middle;\n",
       "    }\n",
       "\n",
       "    .dataframe tbody tr th {\n",
       "        vertical-align: top;\n",
       "    }\n",
       "\n",
       "    .dataframe thead th {\n",
       "        text-align: right;\n",
       "    }\n",
       "</style>\n",
       "<table border=\"1\" class=\"dataframe\">\n",
       "  <thead>\n",
       "    <tr style=\"text-align: right;\">\n",
       "      <th></th>\n",
       "      <th>survived</th>\n",
       "      <th>age</th>\n",
       "      <th>sibsp</th>\n",
       "      <th>parch</th>\n",
       "      <th>fare</th>\n",
       "      <th>sex_male</th>\n",
       "      <th>embarked_Q</th>\n",
       "      <th>embarked_S</th>\n",
       "      <th>pclass_2</th>\n",
       "      <th>pclass_3</th>\n",
       "    </tr>\n",
       "  </thead>\n",
       "  <tbody>\n",
       "    <tr>\n",
       "      <th>0</th>\n",
       "      <td>1</td>\n",
       "      <td>29</td>\n",
       "      <td>0</td>\n",
       "      <td>0</td>\n",
       "      <td>211</td>\n",
       "      <td>0</td>\n",
       "      <td>0</td>\n",
       "      <td>1</td>\n",
       "      <td>0</td>\n",
       "      <td>0</td>\n",
       "    </tr>\n",
       "    <tr>\n",
       "      <th>1</th>\n",
       "      <td>1</td>\n",
       "      <td>0</td>\n",
       "      <td>1</td>\n",
       "      <td>2</td>\n",
       "      <td>151</td>\n",
       "      <td>1</td>\n",
       "      <td>0</td>\n",
       "      <td>1</td>\n",
       "      <td>0</td>\n",
       "      <td>0</td>\n",
       "    </tr>\n",
       "    <tr>\n",
       "      <th>2</th>\n",
       "      <td>0</td>\n",
       "      <td>2</td>\n",
       "      <td>1</td>\n",
       "      <td>2</td>\n",
       "      <td>151</td>\n",
       "      <td>0</td>\n",
       "      <td>0</td>\n",
       "      <td>1</td>\n",
       "      <td>0</td>\n",
       "      <td>0</td>\n",
       "    </tr>\n",
       "    <tr>\n",
       "      <th>3</th>\n",
       "      <td>0</td>\n",
       "      <td>30</td>\n",
       "      <td>1</td>\n",
       "      <td>2</td>\n",
       "      <td>151</td>\n",
       "      <td>1</td>\n",
       "      <td>0</td>\n",
       "      <td>1</td>\n",
       "      <td>0</td>\n",
       "      <td>0</td>\n",
       "    </tr>\n",
       "    <tr>\n",
       "      <th>4</th>\n",
       "      <td>0</td>\n",
       "      <td>25</td>\n",
       "      <td>1</td>\n",
       "      <td>2</td>\n",
       "      <td>151</td>\n",
       "      <td>0</td>\n",
       "      <td>0</td>\n",
       "      <td>1</td>\n",
       "      <td>0</td>\n",
       "      <td>0</td>\n",
       "    </tr>\n",
       "  </tbody>\n",
       "</table>\n",
       "</div>"
      ],
      "text/plain": [
       "   survived  age  sibsp  parch  fare  sex_male  embarked_Q  embarked_S  \\\n",
       "0         1   29      0      0   211         0           0           1   \n",
       "1         1    0      1      2   151         1           0           1   \n",
       "2         0    2      1      2   151         0           0           1   \n",
       "3         0   30      1      2   151         1           0           1   \n",
       "4         0   25      1      2   151         0           0           1   \n",
       "\n",
       "   pclass_2  pclass_3  \n",
       "0         0         0  \n",
       "1         0         0  \n",
       "2         0         0  \n",
       "3         0         0  \n",
       "4         0         0  "
      ]
     },
     "execution_count": 18,
     "metadata": {},
     "output_type": "execute_result"
    }
   ],
   "source": [
    "# one-hot encoding for categorical variables\n",
    "categorical_columnss = ['sex', 'embarked', 'pclass']\n",
    "categorical_columnss = [col for col in categorical_columnss if col in df.columns]\n",
    "\n",
    "df = pd.get_dummies(df, columns=categorical_columnss, drop_first=True)\n",
    "\n",
    "# converting boolean to binary\n",
    "df = df.astype(int)\n",
    "\n",
    "# showing first few rows to check encoding worked\n",
    "df.head()\n"
   ]
  },
  {
   "cell_type": "code",
   "execution_count": 19,
   "metadata": {
    "colab": {
     "base_uri": "https://localhost:8080/"
    },
    "id": "Jccldrbir_z8",
    "outputId": "1f7c87bb-56af-4187-fd12-2a0fa812ea42"
   },
   "outputs": [
    {
     "name": "stdout",
     "output_type": "stream",
     "text": [
      "After cleanup - X_train_scaled types:\n",
      " pclass    float64\n",
      "age       float64\n",
      "sibsp     float64\n",
      "parch     float64\n",
      "fare      float64\n",
      "dtype: object\n"
     ]
    }
   ],
   "source": [
    "import numpy as np\n",
    "import pandas as pd\n",
    "\n",
    "X_train_scaled = X_train.copy()  # making a copy of the og data\n",
    "\n",
    "# droping non-numeric columns\n",
    "X_train_scaled = X_train_scaled.select_dtypes(include=[np.number])  \n",
    "\n",
    "# converting to float\n",
    "X_train_scaled = X_train_scaled.astype(float)  \n",
    "\n",
    "print(\"After cleanup - X_train_scaled types:\\n\", X_train_scaled.dtypes)\n"
   ]
  },
  {
   "cell_type": "code",
   "execution_count": 20,
   "metadata": {
    "colab": {
     "base_uri": "https://localhost:8080/"
    },
    "id": "34l52YdhIJ2_",
    "outputId": "a2b15141-a03d-4c4b-9e6f-5c37e9acfe3a"
   },
   "outputs": [
    {
     "name": "stdout",
     "output_type": "stream",
     "text": [
      "Dataset after encoding:\n",
      "   survived  age  sibsp  parch  fare  sex_male  embarked_Q  embarked_S  \\\n",
      "0         1   29      0      0   211         0           0           1   \n",
      "1         1    0      1      2   151         1           0           1   \n",
      "2         0    2      1      2   151         0           0           1   \n",
      "3         0   30      1      2   151         1           0           1   \n",
      "4         0   25      1      2   151         0           0           1   \n",
      "\n",
      "   pclass_2  pclass_3  \n",
      "0         0         0  \n",
      "1         0         0  \n",
      "2         0         0  \n",
      "3         0         0  \n",
      "4         0         0  \n",
      "\n",
      "Column types after encoding:\n",
      "survived      int64\n",
      "age           int64\n",
      "sibsp         int64\n",
      "parch         int64\n",
      "fare          int64\n",
      "sex_male      int64\n",
      "embarked_Q    int64\n",
      "embarked_S    int64\n",
      "pclass_2      int64\n",
      "pclass_3      int64\n",
      "dtype: object\n"
     ]
    }
   ],
   "source": [
    "#checking if encoding was a success\n",
    "print(\"Dataset after encoding:\")\n",
    "print(df.head())\n",
    "\n",
    "print(\"\\nColumn types after encoding:\")\n",
    "print(df.dtypes)\n"
   ]
  },
  {
   "cell_type": "markdown",
   "metadata": {
    "id": "hhqYhw3kBJN5"
   },
   "source": [
    "TASK 4\n",
    "\n",
    "Feature Scaling"
   ]
  },
  {
   "cell_type": "markdown",
   "metadata": {
    "id": "0dUPgcUGThY9"
   },
   "source": [
    "Explanation for the following section of Code:\n",
    "\n",
    "I am first selecting all the numerical columns in the training dataset.  I then initialize two different scalers, one for standarization(z score) and one for normalization (minmax).\n",
    "\n",
    "Standariation is used to center the data and ensure that the features have a mean of 0 and a std of 1. It is fitted on the training data and then applied to the validation and test set. This effectively removes the impact of different magnitudes accross data while still mantaining the original distribution shape of the data. On the other hand, Min-Max rescales data to range between 0 and 1 and like standarization it is fitted only on the training data. Standarization is typically used when features have different units and for models that assume a normal distribution while normalization is used when most often when features have different ranges but need to be weighted equally. Standarization is also less sensitive to outliers as its formula uses the mean and std while the formula for normalization uses the min and max values of the features.\n",
    "\n",
    "I left both standarization and normalization in this model since the task said to use both but in normal circumastances you would only choose to use 1. In this context, I would say that it makes more sense to use standarization since for models of logistic regression it makes sense to use this strategy since it assumes a normal distribution and it is also more robust and useful against outliers.  \n",
    "\n",
    "\n"
   ]
  },
  {
   "cell_type": "code",
   "execution_count": 21,
   "metadata": {
    "colab": {
     "base_uri": "https://localhost:8080/"
    },
    "id": "ao4yVTTwM6yT",
    "outputId": "3d0557c4-433b-42f0-9059-53e5c4e33760"
   },
   "outputs": [
    {
     "name": "stdout",
     "output_type": "stream",
     "text": [
      "Numerical columns for scaling: Index(['pclass', 'age', 'sibsp', 'parch', 'fare'], dtype='object')\n"
     ]
    }
   ],
   "source": [
    "# identifying numerical columns (not including 'survival')\n",
    "numerical_columns = X_train.select_dtypes(include=['int64', 'float64']).columns\n",
    "print(\"Numerical columns for scaling:\", numerical_columns)\n"
   ]
  },
  {
   "cell_type": "code",
   "execution_count": 22,
   "metadata": {
    "id": "J1wRNB9WNBCM"
   },
   "outputs": [],
   "source": [
    "from sklearn.preprocessing import MinMaxScaler, StandardScaler\n",
    "\n",
    "#initializing MinMaxScaler\n",
    "scaler_minmax = MinMaxScaler()\n",
    "\n",
    "# applying MinMax Scaling\n",
    "X_train_scaled = scaler_minmax.fit_transform(X_train[numerical_columns])\n",
    "X_val_scaled = scaler_minmax.transform(X_val[numerical_columns])\n",
    "X_test_scaled = scaler_minmax.transform(X_test[numerical_columns])\n",
    "\n",
    "# initializing scalers\n",
    "scaler_standard = StandardScaler()\n",
    "scaler_minmax = MinMaxScaler()\n",
    "\n",
    "#standardization (x-score normalization)\n",
    "X_train_standard = scaler_standard.fit_transform(X_train[numerical_columns])\n",
    "X_val_standard = scaler_standard.transform(X_val[numerical_columns])\n",
    "X_test_standard = scaler_standard.transform(X_test[numerical_columns])\n"
   ]
  },
  {
   "cell_type": "markdown",
   "metadata": {
    "id": "Oxy6sZ5yTknd"
   },
   "source": [
    "Explanation for the following section of Code:\n",
    "\n",
    "This next part if the code is just making sure the original datasets are not the ones modified, since we want to apply the transformations on copies. After that I just assigned standarized values to its respective numerical column. The section of code afterwards is just printing the mean and std after scaling to check if the transformation worked as it was expected to."
   ]
  },
  {
   "cell_type": "code",
   "execution_count": 23,
   "metadata": {
    "id": "_CD4-7AWNqX7"
   },
   "outputs": [],
   "source": [
    "# converting scaled arrays back to data frame\n",
    "X_train_scaled = X_train.copy()\n",
    "X_val_scaled = X_val.copy()\n",
    "X_test_scaled = X_test.copy()\n",
    "\n",
    "# using standard scaling\n",
    "X_train_scaled[numerical_columns] = X_train_standard\n",
    "X_val_scaled[numerical_columns] = X_val_standard\n",
    "X_test_scaled[numerical_columns] = X_test_standard\n"
   ]
  },
  {
   "cell_type": "code",
   "execution_count": 24,
   "metadata": {
    "colab": {
     "base_uri": "https://localhost:8080/"
    },
    "id": "d79pymxwN0Hf",
    "outputId": "1d6eafe4-6d56-4b01-bb3a-d0bfd6f95580"
   },
   "outputs": [
    {
     "name": "stdout",
     "output_type": "stream",
     "text": [
      "Mean after Standard Scaling : pclass    2.365890e-16\n",
      "age      -2.249535e-16\n",
      "sibsp     1.648366e-17\n",
      "parch     2.327105e-17\n",
      "fare     -6.981315e-17\n",
      "dtype: float64\n",
      "Std after Standard Scaling : pclass    1.000546\n",
      "age       1.000546\n",
      "sibsp     1.000546\n",
      "parch     1.000546\n",
      "fare      1.000546\n",
      "dtype: float64\n"
     ]
    }
   ],
   "source": [
    "#  mean and std for standard scaler\n",
    "print(\"Mean after Standard Scaling :\", X_train_scaled[numerical_columns].mean())\n",
    "print(\"Std after Standard Scaling :\", X_train_scaled[numerical_columns].std())\n"
   ]
  },
  {
   "cell_type": "markdown",
   "metadata": {
    "id": "4b-1aVklCuDS"
   },
   "source": [
    "TASK 6\n",
    "\n",
    " Addressing Class Imbalance\n",
    "\n",
    "\n",
    "\n",
    "\n"
   ]
  },
  {
   "cell_type": "code",
   "execution_count": 25,
   "metadata": {
    "colab": {
     "base_uri": "https://localhost:8080/",
     "height": 333
    },
    "id": "DEc_OGttOWDG",
    "outputId": "9d133df0-e955-4313-b6f7-0355676d46e4"
   },
   "outputs": [
    {
     "data": {
      "image/png": "[encoded data removed]",
      "text/plain": [
       "<Figure size 700x300 with 1 Axes>"
      ]
     },
     "metadata": {},
     "output_type": "display_data"
    }
   ],
   "source": [
    "#checking class distribution again (same code as in task 1)\n",
    "plt.figure(figsize=(7,3))\n",
    "sns.countplot(data=df, x=\"survived\", hue=\"survived\", palette=\"Set2\")\n",
    "plt.title(\"survival distribution\")\n",
    "plt.xlabel(\"survival (0 = no, 1 = yes)\")\n",
    "plt.ylabel(\"count\")\n",
    "plt.show()"
   ]
  },
  {
   "cell_type": "markdown",
   "metadata": {
    "id": "XlbFW0F4Tnp5"
   },
   "source": [
    "Explanation for the following section of Code:\n",
    "\n",
    "Before applying SMOTE we have to make sure that there are only numerical columns since it will not work otherwise.\n",
    "\n",
    "SMOTE\n",
    "I then go on to preform the SMOTE in order to balance the data. I import smote from the imblearn library and initialize it with a random state. It is then applied on the training data and it creates samples for the minority class in order to make it so that all classes have an equal number of observations (since as we saw in our summary statistics there was an imbalance is the number of passengers who died versus those who died). I then print the new class distribution to make sure that we have the same number of samples in both and as we can see the result shows that both classes now have 566 samples. This step is important for our model since because it has fewer examples of survival it might have a harder time predicting them correctly. Because of SMOTE, now our model has equal representation to learn from."
   ]
  },
  {
   "cell_type": "code",
   "execution_count": 26,
   "metadata": {
    "colab": {
     "base_uri": "https://localhost:8080/"
    },
    "id": "Lg5XP0u9sP0N",
    "outputId": "03a53fbb-fa09-423d-a89a-e2102da134a0"
   },
   "outputs": [
    {
     "name": "stdout",
     "output_type": "stream",
     "text": [
      "Columns pre SMOTE: pclass    float64\n",
      "age       float64\n",
      "sibsp     float64\n",
      "parch     float64\n",
      "fare      float64\n",
      "dtype: object\n",
      "Columns pre SMOTE: pclass    float64\n",
      "age       float64\n",
      "sibsp     float64\n",
      "parch     float64\n",
      "fare      float64\n",
      "dtype: object\n"
     ]
    }
   ],
   "source": [
    "# drop non-numeric columns before SMOTE\n",
    "X_train_scaled = X_train_scaled.select_dtypes(include=[np.number])\n",
    "\n",
    "# making sure X_train_scaled is only numeric\n",
    "print(\"Columns pre SMOTE:\", X_train_scaled.dtypes)\n",
    "\n",
    "print(\"Columns pre SMOTE:\", X_train_scaled.dtypes)\n"
   ]
  },
  {
   "cell_type": "code",
   "execution_count": 27,
   "metadata": {
    "colab": {
     "base_uri": "https://localhost:8080/"
    },
    "id": "lKtUillzPX6I",
    "outputId": "a20596b4-460b-40b9-d22d-30b8c2553f25"
   },
   "outputs": [
    {
     "name": "stdout",
     "output_type": "stream",
     "text": [
      "Class distribution after SMOTE balancing:\n",
      "survived\n",
      "0    566\n",
      "1    566\n",
      "Name: count, dtype: int64\n"
     ]
    }
   ],
   "source": [
    "from imblearn.over_sampling import SMOTE\n",
    "\n",
    "# using SMOTE\n",
    "smote = SMOTE(random_state=42)\n",
    "\n",
    "# using it only on training data\n",
    "X_train_balanced, y_train_balanced = smote.fit_resample(X_train_scaled, y_train)\n",
    "\n",
    "# printing new class distribution\n",
    "print(\"Class distribution after SMOTE balancing:\")\n",
    "print(y_train_balanced.value_counts())\n"
   ]
  },
  {
   "cell_type": "markdown",
   "metadata": {
    "id": "lOZx1IhmTrxY"
   },
   "source": [
    "Explanation for the following section of Code:\n",
    "\n",
    "Next, I am using the same code as before since I want to see the new visualization of the data distribution that is now balanced. Afterwards, I am just printing information about the training, validation and test sets to further confirm that it is now balanced. From this, we can see that the model is successfully using SMOTE and its making the correct transorfmations."
   ]
  },
  {
   "cell_type": "code",
   "execution_count": 28,
   "metadata": {
    "colab": {
     "base_uri": "https://localhost:8080/",
     "height": 410
    },
    "id": "-9mIHzddRypz",
    "outputId": "dc4ecf1e-f7fd-4caf-b5b6-51bcda90668b"
   },
   "outputs": [
    {
     "data": {
      "image/png": "[encoded data removed]",
      "text/plain": [
       "<Figure size 600x400 with 1 Axes>"
      ]
     },
     "metadata": {},
     "output_type": "display_data"
    }
   ],
   "source": [
    "plt.figure(figsize=(6,4))\n",
    "sns.countplot(x=y_train_balanced, palette=\"pastel\", hue=y_train_balanced)\n",
    "plt.title(\"class distribution post Balancing (SMOTE)\")\n",
    "plt.xlabel(\"Survival (0 = No, 1 = Yes)\")\n",
    "plt.ylabel(\"Count\")\n",
    "plt.show()\n"
   ]
  },
  {
   "cell_type": "code",
   "execution_count": 29,
   "metadata": {
    "colab": {
     "base_uri": "https://localhost:8080/"
    },
    "id": "ndUl4RUVWjxb",
    "outputId": "7ab769f4-1352-4393-95c2-eb54c38b4f7e"
   },
   "outputs": [
    {
     "name": "stdout",
     "output_type": "stream",
     "text": [
      "new training set size: (1132, 5)\n",
      "new validation set size: (196, 7)\n",
      "new test set size: (197, 7)\n"
     ]
    }
   ],
   "source": [
    "#confirming that the dataset is ready\n",
    "print(\"new training set size:\", X_train_balanced.shape)\n",
    "print(\"new validation set size:\", X_val_scaled.shape)\n",
    "print(\"new test set size:\", X_test_scaled.shape)\n"
   ]
  },
  {
   "cell_type": "markdown",
   "metadata": {
    "id": "gpEIQkpWHlrL"
   },
   "source": [
    "TASK 7\n",
    "\n",
    "Feature Selection\n",
    "\n"
   ]
  },
  {
   "cell_type": "markdown",
   "metadata": {},
   "source": [
    "Explanation for the following section of Code:\n",
    "\n",
    "In the following code I am using L1 feature selection. I decided to use it because this technique automatically only the most important features by shrinking the coefficients of the less useful features to 0. I use the SelectFromModel to apply Lasso regression with the penalty of l1. I used the \"liblinear\" since it is supposed to be better suited for smaller datasets and supports the technique im using of l1. The model is then trained on the balanced data. Then, \"lasso_selector.get_support()\" is returning a boolean mask that shows which features were selected so its basically filtering out features that are not relevant. Then, we are just keeping only those selected features in the dataset. Afterwards, I just  converted selected feature into a numpy array and then back into a data frame. I did this since it I kept having issues with it not being compatible with SelectFromModel, so this way the scikit-Learn models that work well with numpy are efficient while not losing the column names which would end up making the interpretation harder. \n",
    "\n",
    "The results of this show that the 5 most important features are passenger class, age, number of siblings/spouse, number of parents/children and fare. "
   ]
  },
  {
   "cell_type": "code",
   "execution_count": 30,
   "metadata": {},
   "outputs": [
    {
     "name": "stdout",
     "output_type": "stream",
     "text": [
      "selected features after L1: ['pclass', 'age', 'sibsp', 'parch', 'fare']\n",
      "\n",
      "final transformed X_train shape: (1132, 5)\n",
      "final transformed X_val shape: (196, 5)\n",
      "final transformed X_test shape: (197, 5)\n"
     ]
    }
   ],
   "source": [
    "from sklearn.feature_selection import SelectFromModel\n",
    "from sklearn.linear_model import LogisticRegression\n",
    "\n",
    "X_train_balanced = pd.DataFrame(X_train_balanced, columns=X_train_balanced.columns)\n",
    "\n",
    "# L1 selection\n",
    "lasso_selector = SelectFromModel(LogisticRegression(penalty='l1', solver='liblinear', random_state=42))\n",
    "\n",
    "# selector is on training data\n",
    "lasso_selector.fit(X_train_balanced, y_train_balanced)\n",
    "\n",
    "# getting the selected features\n",
    "selected_features_lasso = X_train_balanced.columns[lasso_selector.get_support()]\n",
    "print(\"selected features after L1:\", list(selected_features_lasso))\n",
    "\n",
    "X_val_scaled = pd.DataFrame(X_val_scaled, columns=X_train_balanced.columns)\n",
    "X_test_scaled = pd.DataFrame(X_test_scaled, columns=X_train_balanced.columns)\n",
    "\n",
    "# keeping only selected features\n",
    "X_train_balanced = X_train_balanced[selected_features_lasso]\n",
    "X_val_scaled = X_val_scaled[selected_features_lasso]\n",
    "X_test_scaled = X_test_scaled[selected_features_lasso]\n",
    "\n",
    "# converting to NumPy before transformation\n",
    "X_train_final = lasso_selector.transform(X_train_balanced)\n",
    "X_val_final = lasso_selector.transform(X_val_scaled)\n",
    "X_test_final = lasso_selector.transform(X_test_scaled)\n",
    "\n",
    "# Converting back to DataFrame to retain feature names\n",
    "X_train_final = pd.DataFrame(X_train_final, columns=selected_features_lasso)\n",
    "X_val_final = pd.DataFrame(X_val_final, columns=selected_features_lasso)\n",
    "X_test_final = pd.DataFrame(X_test_final, columns=selected_features_lasso)\n",
    "\n",
    "print(\"\\nfinal transformed X_train shape:\", X_train_final.shape)\n",
    "print(\"final transformed X_val shape:\", X_val_final.shape)\n",
    "print(\"final transformed X_test shape:\", X_test_final.shape)\n"
   ]
  },
  {
   "cell_type": "markdown",
   "metadata": {},
   "source": [
    "Explanation for the following section of Code:\n",
    "\n",
    "For the first part I used variance threshold in order to remove any low variance features. We do this because features that do not contain a lot of variance accross different samples are probably not going to be very useful. If the variance is close to 0  it implies that its not very helpful in distinguishing between classes (i chose a threshold of 0.01 so features with less than 1% of variance will be dropped). As shown in the results, the only features that passed the test of variance were class, age, number of siblings/spouse, number of parents/children and fare which were the same ones that passed the L1 test. This reenforces that these are the most important features for our model. \n",
    "\n",
    "For the second part we used a correlation based feature selection. We did this in order to delete any features that may be highly correlated as this can not only be redundant information for the model but can also cause multicollinearity problems. I chose 85% as my threshold meaning that any features with a correlation higher than this will be deleted. As we can see, none of the features were found to have such a high correlation meaning that they are independant of eachother and are each having their own effect. "
   ]
  },
  {
   "cell_type": "code",
   "execution_count": 31,
   "metadata": {
    "colab": {
     "base_uri": "https://localhost:8080/"
    },
    "id": "QkmqsnkdZOrb",
    "outputId": "ea6da3af-a718-4f63-866d-73513cbfd4b4"
   },
   "outputs": [
    {
     "name": "stdout",
     "output_type": "stream",
     "text": [
      "selected features after variance thresholding: ['pclass', 'age', 'sibsp', 'parch', 'fare']\n"
     ]
    }
   ],
   "source": [
    "import pandas as pd\n",
    "from sklearn.feature_selection import VarianceThreshold\n",
    "\n",
    "var_thresh = VarianceThreshold(threshold=0.01)  # defined the threshold as 1%\n",
    "\n",
    "# applying transformation\n",
    "X_train_reduced = var_thresh.fit_transform(X_train_balanced)\n",
    "\n",
    "# applying variance threshold\n",
    "X_train_reduced = var_thresh.fit_transform(X_train_balanced)\n",
    "\n",
    "# converting back to DataFrame \n",
    "X_train_reduced = pd.DataFrame(X_train_reduced, columns=X_train_balanced.columns)\n",
    "\n",
    "\n",
    "selected_features = X_train_reduced.columns[var_thresh.get_support()]\n",
    "print(\"selected features after variance thresholding:\", list(selected_features))\n"
   ]
  },
  {
   "cell_type": "code",
   "execution_count": 32,
   "metadata": {},
   "outputs": [
    {
     "name": "stdout",
     "output_type": "stream",
     "text": [
      "Highly correlated features to drop: []\n"
     ]
    }
   ],
   "source": [
    "# Computing correlation matrix\n",
    "corr_matrix = X_train_balanced.corr().abs()\n",
    "\n",
    "# Selecting upper triangle of the correlation matrix\n",
    "upper = corr_matrix.where(np.triu(np.ones(corr_matrix.shape), k=1).astype(bool))\n",
    "\n",
    "# Find features with high correlation\n",
    "high_corr_features = [column for column in upper.columns if any(upper[column] > 0.85)]\n",
    "\n",
    "print(\"Highly correlated features to drop:\", high_corr_features)\n"
   ]
  },
  {
   "cell_type": "markdown",
   "metadata": {
    "id": "fvgs3Eq-24fB"
   },
   "source": [
    "TASK 8\n",
    "\n",
    "Training a Logistic Regression Model"
   ]
  },
  {
   "cell_type": "markdown",
   "metadata": {},
   "source": [
    "Explanation for the following section of Code:\n",
    "\n",
    "The model below is being trained on X_train_reduced which is the set selected after feature selection and y_train_balanced which is the balanced target variable post SWOT. The regression is basically learning from the independant variables in the X features and using that to predict the y. The coefficients that are being printed are explaining the importance of the features (neg coefficient: decreasesd survival prob/ positive coefficient: increased chance of survival). From this we can come to some conclusions about each of our features.\n",
    "\n",
    "Class: With a coefficient of -0.6977 we can conclude that being a part of the third class implies you have lower chances of survival\n",
    "Age: With a coefficient of -0.4578, this implies that the older the passenger the lower their chance of survival\n",
    "Sibsp: With a coefficient of -0.2916, we can conclude that having siblings or a spouse on board slightly decreases the chance of survival\n",
    "Parch: With a coefficient of 0.1877 we can see that having a parent/child on board slightly increases the chance of survival\n",
    "Fare: With a coefficient of 0.1869, we can conclude that richer passengers (those who paid more) had a higher chance of survival\n",
    "\n",
    "The model is then making prediction on the validation and test sets. Using tools like accuracy, precesion and recall we will then be able to see how succesfull the model actually is in making these predictions. "
   ]
  },
  {
   "cell_type": "code",
   "execution_count": 33,
   "metadata": {
    "colab": {
     "base_uri": "https://localhost:8080/"
    },
    "id": "PvBX5Ks43E7Z",
    "outputId": "f5f4d1da-39b4-4a3b-c989-aa0b8a9897b1"
   },
   "outputs": [
    {
     "name": "stdout",
     "output_type": "stream",
     "text": [
      "Model Coefficients:\n",
      "pclass: -0.6977\n",
      "age: -0.4578\n",
      "sibsp: -0.2916\n",
      "parch: 0.1877\n",
      "fare: 0.1869\n"
     ]
    }
   ],
   "source": [
    "from sklearn.linear_model import LogisticRegression\n",
    "\n",
    "# logistic regression model\n",
    "log_reg = LogisticRegression(random_state=42, solver='liblinear')\n",
    "\n",
    "# training model on the final selected features\n",
    "log_reg.fit(X_train_reduced, y_train_balanced)\n",
    "\n",
    "# print model coefficients (to understand feature importance)\n",
    "print(\"Model Coefficients:\")\n",
    "for feature, coef in zip(selected_features_lasso, log_reg.coef_[0]):\n",
    "    print(f\"{feature}: {coef:.4f}\")\n",
    "\n",
    "X_val_reduced = X_val_scaled.drop(columns=high_corr_features)\n",
    "X_test_reduced = X_test_scaled.drop(columns=high_corr_features)\n"
   ]
  },
  {
   "cell_type": "code",
   "execution_count": 34,
   "metadata": {
    "id": "DkAMEvjQ3LLl"
   },
   "outputs": [],
   "source": [
    "# Make predictions on the validation and test sets\n",
    "y_val_pred = log_reg.predict(X_val_final)\n",
    "y_test_pred = log_reg.predict(X_test_final)\n"
   ]
  },
  {
   "cell_type": "markdown",
   "metadata": {},
   "source": [
    "Explanation for the following section of Code:\n",
    "\n",
    "Below we have the results of the model evaluation. The accuracy score ended up being of 67% for validation and 72% for the training. This means that it is correctly predicting survival 67/100 and 72/100 times respectively. While this is not bad, it could defiently be improved (but this is what we will work on on the next assingment :)\n",
    "\n",
    "From the Confusion Matrix we can then see that for precesion the scores were of 76% for no survival and 56% for survival. This means that there are some false positives happening since the model is missclassifying some passengers as survivers when they were not. For recall, the scores were 69% and 64% for survival and no survival. Since the recall for survival is greater for recall than precesion we can understand that the model is finding more correct survivals but at the cost of many false positives. \n",
    "\n",
    "Finally, the F1-score shows the balance between precision and recall. 72% for no survival and 60% for survival. This shows again that the model struggles with finding the right balance between the two as it keeps overestimating survival. "
   ]
  },
  {
   "cell_type": "code",
   "execution_count": 35,
   "metadata": {
    "colab": {
     "base_uri": "https://localhost:8080/",
     "height": 642
    },
    "id": "49k5XcVw3WWa",
    "outputId": "f4a95997-84ab-4294-e2f3-821ecf83f0aa"
   },
   "outputs": [
    {
     "name": "stdout",
     "output_type": "stream",
     "text": [
      "Validation Accuracy: 0.6735\n",
      "Test Accuracy: 0.7259\n",
      "\n",
      "Classification Report (Validation Set):\n",
      "              precision    recall  f1-score   support\n",
      "\n",
      "           0       0.76      0.69      0.72       121\n",
      "           1       0.56      0.64      0.60        75\n",
      "\n",
      "    accuracy                           0.67       196\n",
      "   macro avg       0.66      0.67      0.66       196\n",
      "weighted avg       0.68      0.67      0.68       196\n",
      "\n"
     ]
    },
    {
     "data": {
      "image/png": "[encoded data removed]",
      "text/plain": [
       "<Figure size 600x400 with 2 Axes>"
      ]
     },
     "metadata": {},
     "output_type": "display_data"
    }
   ],
   "source": [
    "from sklearn.metrics import accuracy_score, classification_report, confusion_matrix\n",
    "import seaborn as sns\n",
    "import matplotlib.pyplot as plt\n",
    "\n",
    "# accuracy scores\n",
    "val_accuracy = accuracy_score(y_val, y_val_pred)\n",
    "test_accuracy = accuracy_score(y_test, y_test_pred)\n",
    "print(f\"Validation Accuracy: {val_accuracy:.4f}\")\n",
    "print(f\"Test Accuracy: {test_accuracy:.4f}\")\n",
    "\n",
    "# classification report\n",
    "print(\"\\nClassification Report (Validation Set):\")\n",
    "print(classification_report(y_val, y_val_pred))\n",
    "\n",
    "# confusion Matrix\n",
    "conf_matrix = confusion_matrix(y_val, y_val_pred)\n",
    "\n",
    "plt.figure(figsize=(6,4))\n",
    "sns.heatmap(conf_matrix, annot=True, fmt='d', cmap='Blues', xticklabels=['No Survival', 'Survived'], yticklabels=['No Survival', 'Survived'])\n",
    "plt.xlabel(\"Predicted\")\n",
    "plt.ylabel(\"Actual\")\n",
    "plt.title(\"Confusion Matrix (Validation Set)\")\n",
    "plt.show()\n"
   ]
  }
 ],
 "metadata": {
  "colab": {
   "provenance": []
  },
  "kernelspec": {
   "display_name": "Python (.venv)",
   "language": "python",
   "name": ".venv"
  },
  "language_info": {
   "codemirror_mode": {
    "name": "ipython",
    "version": 3
   },
   "file_extension": ".py",
   "mimetype": "text/x-python",
   "name": "python",
   "nbconvert_exporter": "python",
   "pygments_lexer": "ipython3",
   "version": "3.13.1"
  }
 },
 "nbformat": 4,
 "nbformat_minor": 0
}
